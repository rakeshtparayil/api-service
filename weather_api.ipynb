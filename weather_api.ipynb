{
 "cells": [
  {
   "cell_type": "code",
   "execution_count": 9,
   "metadata": {},
   "outputs": [
    {
     "name": "stdout",
     "output_type": "stream",
     "text": [
      "{'error': {'code': 2008, 'message': 'API key has been disabled.'}}\n"
     ]
    }
   ],
   "source": [
    "import requests\n",
    "import json\n",
    "url = 'http://api.weatherapi.com/v1/current.json?key=8b2efff198164a5192a152914252403&q=London&aqi=no'\n",
    "response = requests.get(url)\n",
    "print(response.json())\n"
   ]
  },
  {
   "cell_type": "code",
   "execution_count": 10,
   "metadata": {},
   "outputs": [
    {
     "name": "stdout",
     "output_type": "stream",
     "text": [
      "Original dataframe:\n",
      "   error.code               error.message\n",
      "0        2008  API key has been disabled.\n",
      "\n",
      "Customized dataframe with underscores:\n",
      "   error_code               error_message\n",
      "0        2008  API key has been disabled.\n"
     ]
    }
   ],
   "source": [
    "import json\n",
    "import pandas as pd\n",
    "import requests\n",
    "import os\n",
    "from dotenv import load_dotenv\n",
    "\n",
    "# Load environment variables from .env file\n",
    "load_dotenv()\n",
    "\n",
    "# Access the API key\n",
    "api_key = os.getenv(\"WEATHER_API_KEY\")\n",
    "\n",
    "# Use the API key in your request\n",
    "url = f\"http://api.weatherapi.com/v1/current.json?key={api_key}\"\n",
    "\n",
    "# Option 1: Fetch data directly from the API\n",
    "response = requests.get(url, params={\"q\": \"London\"})  # Example location\n",
    "data = response.json()\n",
    "\n",
    "# Option 2: Alternatively, if you already have the JSON file saved\n",
    "# with open('current.json', 'r') as file:\n",
    "#     data = json.load(file)\n",
    "\n",
    "# For nested JSON, use json_normalize\n",
    "df = pd.json_normalize(data)\n",
    "\n",
    "# The result will have column names with dots for nested elements:\n",
    "# location.name, location.region, location.country, location.lat, location.lon, \n",
    "# current.temp_c, current.humidity, etc.\n",
    "\n",
    "# To customize column prefixes:\n",
    "df_custom = pd.json_normalize(\n",
    "    data,\n",
    "    sep='_'  # Use underscore instead of dot\n",
    ")\n",
    "\n",
    "# Print the resulting dataframes\n",
    "print(\"Original dataframe:\")\n",
    "print(df)\n",
    "print(\"\\nCustomized dataframe with underscores:\")\n",
    "print(df_custom)\n",
    "\n",
    "# You can also save to CSV if needed\n",
    "# df.to_csv('weather_data.csv', index=False)"
   ]
  }
 ],
 "metadata": {
  "kernelspec": {
   "display_name": "CAB_V1",
   "language": "python",
   "name": "python3"
  },
  "language_info": {
   "codemirror_mode": {
    "name": "ipython",
    "version": 3
   },
   "file_extension": ".py",
   "mimetype": "text/x-python",
   "name": "python",
   "nbconvert_exporter": "python",
   "pygments_lexer": "ipython3",
   "version": "3.12.2"
  }
 },
 "nbformat": 4,
 "nbformat_minor": 2
}
