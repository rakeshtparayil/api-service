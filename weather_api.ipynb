{
 "cells": [
  {
   "cell_type": "code",
   "execution_count": null,
   "metadata": {},
   "outputs": [
    {
     "name": "stdout",
     "output_type": "stream",
     "text": [
      "200\n"
     ]
    },
    {
     "ename": "NameError",
     "evalue": "name 'df' is not defined",
     "output_type": "error",
     "traceback": [
      "\u001b[31m---------------------------------------------------------------------------\u001b[39m",
      "\u001b[31mNameError\u001b[39m                                 Traceback (most recent call last)",
      "\u001b[36mCell\u001b[39m\u001b[36m \u001b[39m\u001b[32mIn[3]\u001b[39m\u001b[32m, line 31\u001b[39m\n\u001b[32m     28\u001b[39m pd.set_option(\u001b[33m'\u001b[39m\u001b[33mdisplay.width\u001b[39m\u001b[33m'\u001b[39m, \u001b[32m1000\u001b[39m)        \u001b[38;5;66;03m# Wider display\u001b[39;00m\n\u001b[32m     29\u001b[39m pd.set_option(\u001b[33m'\u001b[39m\u001b[33mdisplay.precision\u001b[39m\u001b[33m'\u001b[39m, \u001b[32m2\u001b[39m)       \u001b[38;5;66;03m# Limit decimal places\u001b[39;00m\n\u001b[32m---> \u001b[39m\u001b[32m31\u001b[39m \u001b[38;5;28mprint\u001b[39m(\u001b[43mdf\u001b[49m)\n",
      "\u001b[31mNameError\u001b[39m: name 'df' is not defined"
     ]
    }
   ],
   "source": [
    "import json\n",
    "import pandas as pd\n",
    "import requests\n",
    "import os\n",
    "from dotenv import load_dotenv\n",
    "\n",
    "# Load environment variables from .env file\n",
    "load_dotenv()\n",
    "\n",
    "# Access the API key\n",
    "api_key = os.getenv(\"api_key\")\n",
    "\n",
    "# Use the API key in your request\n",
    "url = f\"http://api.weatherapi.com/v1/current.json?key={api_key}\"\n",
    "\n",
    "# Option 1: Fetch data directly from the API\n",
    "response = requests.get(url, params={\"q\": \"London\"})  # Example location\n",
    "\n",
    "# Status code\n",
    "status_code = response.status_code\n",
    "print(status_code)\n",
    "\n",
    "data = response.json()\n",
    "\n",
    "\n",
    "# Format with pandas styling options\n",
    "pd.set_option('display.max_columns', None)  # Show all columns\n",
    "pd.set_option('display.width', 1000)        # Wider display\n",
    "pd.set_option('display.precision', 2)       # Limit decimal places\n",
    "\n",
    "print(df)"
   ]
  }
 ],
 "metadata": {
  "kernelspec": {
   "display_name": "CAB_V1",
   "language": "python",
   "name": "python3"
  },
  "language_info": {
   "codemirror_mode": {
    "name": "ipython",
    "version": 3
   },
   "file_extension": ".py",
   "mimetype": "text/x-python",
   "name": "python",
   "nbconvert_exporter": "python",
   "pygments_lexer": "ipython3",
   "version": "3.12.9"
  }
 },
 "nbformat": 4,
 "nbformat_minor": 2
}
