{
 "cells": [
  {
   "cell_type": "code",
   "execution_count": null,
   "metadata": {},
   "outputs": [
    {
     "name": "stdout",
     "output_type": "stream",
     "text": [
      "200\n",
      "  location.name                 location.region location.country  location.lat  location.lon location.tz_id  location.localtime_epoch location.localtime  current.last_updated_epoch current.last_updated  current.temp_c  current.temp_f  current.is_day current.condition.text                          current.condition.icon  current.condition.code  current.wind_mph  current.wind_kph  current.wind_degree current.wind_dir  current.pressure_mb  current.pressure_in  current.precip_mm  current.precip_in  current.humidity  current.cloud  current.feelslike_c  current.feelslike_f  current.windchill_c  current.windchill_f  current.heatindex_c  current.heatindex_f  current.dewpoint_c  current.dewpoint_f  current.vis_km  current.vis_miles  current.uv  current.gust_mph  current.gust_kph\n",
      "0        London  City of London, Greater London   United Kingdom         51.52         -0.11  Europe/London                1742906939   2025-03-25 12:48                  1742906700     2025-03-25 12:45            12.0            53.6               1               Overcast  //cdn.weatherapi.com/weather/64x64/day/122.png                    1009               7.2              11.5                  314               NW               1022.0                30.18                0.0                0.0                71             50                 10.8                 51.4                 13.7                 56.7                 14.4                 57.9                 5.8                42.5            10.0                6.0         1.0               8.2              13.2\n"
     ]
    }
   ],
   "source": [
    "import json\n",
    "import pandas as pd\n",
    "import requests\n",
    "import os\n",
    "from dotenv import load_dotenv\n",
    "\n",
    "# Load environment variables from .env file\n",
    "load_dotenv()\n",
    "\n",
    "# Access the API key\n",
    "api_key = os.getenv(\"api_key\")\n",
    "\n",
    "# Use the API key in your request\n",
    "url = f\"http://api.weatherapi.com/v1/current.json?key={api_key}\"\n",
    "\n",
    "# Option 1: Fetch data directly from the API\n",
    "response = requests.get(url, params={\"q\": \"London\"})  # Example location\n",
    "\n",
    "# Status code\n",
    "status_code = response.status_code\n",
    "print(status_code)\n",
    "\n",
    "data = response.json()\n",
    "\n",
    "\n",
    "# Format with pandas styling options\n",
    "pd.set_option('display.max_columns', None)  # Show all columns\n",
    "pd.set_option('display.width', 1000)        # Wider display\n",
    "pd.set_option('display.precision', 2)       # Limit decimal places\n",
    "\n",
    "print(df)"
   ]
  }
 ],
 "metadata": {
  "kernelspec": {
   "display_name": "CAB_V1",
   "language": "python",
   "name": "python3"
  },
  "language_info": {
   "codemirror_mode": {
    "name": "ipython",
    "version": 3
   },
   "file_extension": ".py",
   "mimetype": "text/x-python",
   "name": "python",
   "nbconvert_exporter": "python",
   "pygments_lexer": "ipython3",
   "version": "3.12.9"
  }
 },
 "nbformat": 4,
 "nbformat_minor": 2
}
